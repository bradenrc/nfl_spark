{
 "cells": [
  {
   "cell_type": "code",
   "execution_count": null,
   "metadata": {
    "collapsed": false
   },
   "outputs": [],
   "source": [
    "!rm -rf /gpfs/global_fs01/sym_shared/YPProdSpark/user/s0d5-a7406a340d8065-5626aa220b46/notebook/work/metastore_db/*.lck"
   ]
  },
  {
   "cell_type": "code",
   "execution_count": null,
   "metadata": {
    "collapsed": false
   },
   "outputs": [],
   "source": [
    "!pwd"
   ]
  },
  {
   "cell_type": "code",
   "execution_count": 1,
   "metadata": {
    "collapsed": true
   },
   "outputs": [],
   "source": [
    "def set_hadoop_config(credentials):\n",
    "    prefix = \"fs.swift.service.\" + credentials['name'] \n",
    "    hconf = sc._jsc.hadoopConfiguration()\n",
    "    hconf.set(prefix + \".auth.url\", credentials['auth_url']+'/v3/auth/tokens')\n",
    "    hconf.set(prefix + \".auth.endpoint.prefix\", \"endpoints\")\n",
    "    hconf.set(prefix + \".tenant\", credentials['project_id'])\n",
    "    hconf.set(prefix + \".username\", credentials['user_id'])\n",
    "    hconf.set(prefix + \".password\", credentials['password'])\n",
    "    hconf.setInt(prefix + \".http.port\", 8080)\n",
    "    hconf.set(prefix + \".region\", credentials['region'])\n",
    "    hconf.setBoolean(prefix + \".public\", True)"
   ]
  },
  {
   "cell_type": "code",
   "execution_count": 2,
   "metadata": {
    "collapsed": false
   },
   "outputs": [],
   "source": [
    "credentials = {\n",
    "    'auth_url': 'https://identity.open.softlayer.com',\n",
    "    'project_id': 'ba9ee15455674ef2b53faeac782745d9',\n",
    "    'region': 'dallas',\n",
    "    'user_id': 'd47592b3c2fc448ca8e6020efe89dc05',\n",
    "    'username': 'Admin_8900ea74f97a5804cbb51c1a81d74fc4d88bdfa4',\n",
    "    'password': 'LP7G9,RD1qOb^zly',\n",
    "    'container': 'notebooks',\n",
    "    \n",
    "}"
   ]
  },
  {
   "cell_type": "code",
   "execution_count": 3,
   "metadata": {
    "collapsed": false
   },
   "outputs": [],
   "source": [
    "credentials['name'] = 'keystone'\n",
    "set_hadoop_config(credentials)"
   ]
  },
  {
   "cell_type": "code",
   "execution_count": 4,
   "metadata": {
    "collapsed": false
   },
   "outputs": [],
   "source": [
    "path = \"swift://notebooks.\" + credentials['name'] + \"/\"\n",
    "\n",
    "games_norm_df = sqlContext.read.parquet(\"./games_norm_df_p/\")\n",
    "games_norm_df.registerTempTable(\"games\")\n",
    "\n",
    "distinct_games_weather_df = sqlContext.read.parquet(\"./weather_p/\")\n",
    "distinct_games_weather_df.registerTempTable(\"weather\")\n",
    "\n",
    "drive_df = sqlContext.read.json(path + \"drive.json\")\n",
    "drive_df.registerTempTable(\"drive\")\n",
    "\n",
    "play_player_df = sqlContext.read.json(path + \"play_player.json\")\n",
    "play_player_df.registerTempTable(\"play_player\")\n",
    "\n",
    "play_df = sqlContext.read.json(path + \"play.json\")\n",
    "play_df.registerTempTable(\"play\")\n",
    "\n",
    "player_df = sqlContext.read.json(path + \"player.json\")\n",
    "player_df.registerTempTable(\"player\")\n",
    "\n",
    "team_df = sqlContext.read.json(path + \"team.json\")\n",
    "team_df.registerTempTable(\"team\")"
   ]
  },
  {
   "cell_type": "code",
   "execution_count": 5,
   "metadata": {
    "collapsed": false
   },
   "outputs": [
    {
     "name": "stdout",
     "output_type": "stream",
     "text": [
      "Games:  4632\n",
      "Weather (distinct games):  2316\n",
      "Drives:  54465\n",
      "Player Plays:  899827\n",
      "Plays:  406639\n",
      "Players:  6744\n",
      "Teams::  33\n"
     ]
    }
   ],
   "source": [
    "print \"Games: \", games_norm_df.count()\n",
    "print \"Weather (distinct games): \", distinct_games_weather_df.count()\n",
    "print \"Drives: \", drive_df.count()\n",
    "print \"Player Plays: \", play_player_df.count()\n",
    "print \"Plays: \", play_df.count()\n",
    "print \"Players: \", player_df.count()\n",
    "print \"Teams:: \", team_df.count()"
   ]
  },
  {
   "cell_type": "code",
   "execution_count": 6,
   "metadata": {
    "collapsed": false
   },
   "outputs": [
    {
     "name": "stdout",
     "output_type": "stream",
     "text": [
      "Games:  root\n",
      " |-- GSIS_ID: integer (nullable = true)\n",
      " |-- GAMEKEY: integer (nullable = true)\n",
      " |-- START_TIME: timestamp (nullable = true)\n",
      " |-- WEEK: integer (nullable = true)\n",
      " |-- DAY_OF_WEEK: string (nullable = true)\n",
      " |-- SEASON_YEAR: integer (nullable = true)\n",
      " |-- SEASON_TYPE: string (nullable = true)\n",
      " |-- FINISHED: string (nullable = true)\n",
      " |-- LOCATION: string (nullable = true)\n",
      " |-- HOME_GAME: integer (nullable = true)\n",
      " |-- TEAM: string (nullable = true)\n",
      " |-- SCORE: integer (nullable = true)\n",
      " |-- SCORE_Q1: integer (nullable = true)\n",
      " |-- SCORE_Q2: integer (nullable = true)\n",
      " |-- SCORE_Q3: integer (nullable = true)\n",
      " |-- SCORE_Q4: integer (nullable = true)\n",
      " |-- SCORE_Q5: integer (nullable = true)\n",
      " |-- TURNOVERS: integer (nullable = true)\n",
      " |-- OPPONENT_TEAM: string (nullable = true)\n",
      " |-- OPPONENT_SCORE: integer (nullable = true)\n",
      " |-- OPPONENT_SCORE_Q1: integer (nullable = true)\n",
      " |-- OPPONENT_SCORE_Q2: integer (nullable = true)\n",
      " |-- OPPONENT_SCORE_Q3: integer (nullable = true)\n",
      " |-- OPPONENT_SCORE_Q4: integer (nullable = true)\n",
      " |-- OPPONENT_SCORE_Q5: integer (nullable = true)\n",
      " |-- OPPONENT_TURNOVERS: integer (nullable = true)\n",
      " |-- WON: integer (nullable = true)\n",
      " |-- TIE: integer (nullable = true)\n",
      "\n",
      "None\n",
      "Weather (distinct games):  root\n",
      " |-- GSIS_ID: long (nullable = true)\n",
      " |-- LOCATION: string (nullable = true)\n",
      " |-- START_TIME: timestamp (nullable = true)\n",
      " |-- datekey: string (nullable = true)\n",
      " |-- latitude: string (nullable = true)\n",
      " |-- longitude: string (nullable = true)\n",
      " |-- stadium_city: string (nullable = true)\n",
      " |-- weather: map (nullable = true)\n",
      " |    |-- key: string\n",
      " |    |-- value: array (valueContainsNull = true)\n",
      " |    |    |-- element: map (containsNull = true)\n",
      " |    |    |    |-- key: string\n",
      " |    |    |    |-- value: long (valueContainsNull = true)\n",
      "\n",
      "None\n",
      "Drives:  root\n",
      " |-- DRIVE_ID: long (nullable = true)\n",
      " |-- END_FIELD: string (nullable = true)\n",
      " |-- END_TIME: string (nullable = true)\n",
      " |-- FIRST_DOWNS: long (nullable = true)\n",
      " |-- GSIS_ID: long (nullable = true)\n",
      " |-- PENALTY_YARDS: long (nullable = true)\n",
      " |-- PLAY_COUNT: long (nullable = true)\n",
      " |-- POS_TEAM: string (nullable = true)\n",
      " |-- POS_TIME: string (nullable = true)\n",
      " |-- RESULT: string (nullable = true)\n",
      " |-- START_FIELD: string (nullable = true)\n",
      " |-- START_TIME: string (nullable = true)\n",
      " |-- TIME_INSERTED: string (nullable = true)\n",
      " |-- TIME_UPDATED: string (nullable = true)\n",
      " |-- YARDS_GAINED: long (nullable = true)\n",
      "\n",
      "None\n",
      "Player Plays:  root\n",
      " |-- DEFENSE_AST: long (nullable = true)\n",
      " |-- DEFENSE_FFUM: long (nullable = true)\n",
      " |-- DEFENSE_FGBLK: long (nullable = true)\n",
      " |-- DEFENSE_FREC: long (nullable = true)\n",
      " |-- DEFENSE_FREC_TDS: long (nullable = true)\n",
      " |-- DEFENSE_FREC_YDS: long (nullable = true)\n",
      " |-- DEFENSE_INT: long (nullable = true)\n",
      " |-- DEFENSE_INT_TDS: long (nullable = true)\n",
      " |-- DEFENSE_INT_YDS: long (nullable = true)\n",
      " |-- DEFENSE_MISC_TDS: long (nullable = true)\n",
      " |-- DEFENSE_MISC_YDS: long (nullable = true)\n",
      " |-- DEFENSE_PASS_DEF: long (nullable = true)\n",
      " |-- DEFENSE_PUNTBLK: long (nullable = true)\n",
      " |-- DEFENSE_QBHIT: long (nullable = true)\n",
      " |-- DEFENSE_SAFE: long (nullable = true)\n",
      " |-- DEFENSE_SK: double (nullable = true)\n",
      " |-- DEFENSE_SK_YDS: long (nullable = true)\n",
      " |-- DEFENSE_TKL: long (nullable = true)\n",
      " |-- DEFENSE_TKL_LOSS: long (nullable = true)\n",
      " |-- DEFENSE_TKL_LOSS_YDS: long (nullable = true)\n",
      " |-- DEFENSE_TKL_PRIMARY: long (nullable = true)\n",
      " |-- DEFENSE_XPBLK: long (nullable = true)\n",
      " |-- DRIVE_ID: long (nullable = true)\n",
      " |-- FUMBLES_FORCED: long (nullable = true)\n",
      " |-- FUMBLES_LOST: long (nullable = true)\n",
      " |-- FUMBLES_NOTFORCED: long (nullable = true)\n",
      " |-- FUMBLES_OOB: long (nullable = true)\n",
      " |-- FUMBLES_REC: long (nullable = true)\n",
      " |-- FUMBLES_REC_TDS: long (nullable = true)\n",
      " |-- FUMBLES_REC_YDS: long (nullable = true)\n",
      " |-- FUMBLES_TOT: long (nullable = true)\n",
      " |-- GSIS_ID: long (nullable = true)\n",
      " |-- KICKING_ALL_YDS: long (nullable = true)\n",
      " |-- KICKING_DOWNED: long (nullable = true)\n",
      " |-- KICKING_FGA: long (nullable = true)\n",
      " |-- KICKING_FGB: long (nullable = true)\n",
      " |-- KICKING_FGM: long (nullable = true)\n",
      " |-- KICKING_FGMISSED: long (nullable = true)\n",
      " |-- KICKING_FGMISSED_YDS: long (nullable = true)\n",
      " |-- KICKING_FGM_YDS: long (nullable = true)\n",
      " |-- KICKING_I20: long (nullable = true)\n",
      " |-- KICKING_REC: long (nullable = true)\n",
      " |-- KICKING_REC_TDS: long (nullable = true)\n",
      " |-- KICKING_TOT: long (nullable = true)\n",
      " |-- KICKING_TOUCHBACK: long (nullable = true)\n",
      " |-- KICKING_XPA: long (nullable = true)\n",
      " |-- KICKING_XPB: long (nullable = true)\n",
      " |-- KICKING_XPMADE: long (nullable = true)\n",
      " |-- KICKING_XPMISSED: long (nullable = true)\n",
      " |-- KICKING_YDS: long (nullable = true)\n",
      " |-- KICKRET_FAIR: long (nullable = true)\n",
      " |-- KICKRET_OOB: long (nullable = true)\n",
      " |-- KICKRET_RET: long (nullable = true)\n",
      " |-- KICKRET_TDS: long (nullable = true)\n",
      " |-- KICKRET_TOUCHBACK: long (nullable = true)\n",
      " |-- KICKRET_YDS: long (nullable = true)\n",
      " |-- PASSING_ATT: long (nullable = true)\n",
      " |-- PASSING_CMP: long (nullable = true)\n",
      " |-- PASSING_CMP_AIR_YDS: long (nullable = true)\n",
      " |-- PASSING_INCMP: long (nullable = true)\n",
      " |-- PASSING_INCMP_AIR_YDS: long (nullable = true)\n",
      " |-- PASSING_INT: long (nullable = true)\n",
      " |-- PASSING_SK: long (nullable = true)\n",
      " |-- PASSING_SK_YDS: long (nullable = true)\n",
      " |-- PASSING_TDS: long (nullable = true)\n",
      " |-- PASSING_TWOPTA: long (nullable = true)\n",
      " |-- PASSING_TWOPTM: long (nullable = true)\n",
      " |-- PASSING_TWOPTMISSED: long (nullable = true)\n",
      " |-- PASSING_YDS: long (nullable = true)\n",
      " |-- PLAYER_ID: string (nullable = true)\n",
      " |-- PLAY_ID: long (nullable = true)\n",
      " |-- PUNTING_BLK: long (nullable = true)\n",
      " |-- PUNTING_I20: long (nullable = true)\n",
      " |-- PUNTING_TOT: long (nullable = true)\n",
      " |-- PUNTING_TOUCHBACK: long (nullable = true)\n",
      " |-- PUNTING_YDS: long (nullable = true)\n",
      " |-- PUNTRET_DOWNED: long (nullable = true)\n",
      " |-- PUNTRET_FAIR: long (nullable = true)\n",
      " |-- PUNTRET_OOB: long (nullable = true)\n",
      " |-- PUNTRET_TDS: long (nullable = true)\n",
      " |-- PUNTRET_TOT: long (nullable = true)\n",
      " |-- PUNTRET_TOUCHBACK: long (nullable = true)\n",
      " |-- PUNTRET_YDS: long (nullable = true)\n",
      " |-- RECEIVING_REC: long (nullable = true)\n",
      " |-- RECEIVING_TAR: long (nullable = true)\n",
      " |-- RECEIVING_TDS: long (nullable = true)\n",
      " |-- RECEIVING_TWOPTA: long (nullable = true)\n",
      " |-- RECEIVING_TWOPTM: long (nullable = true)\n",
      " |-- RECEIVING_TWOPTMISSED: long (nullable = true)\n",
      " |-- RECEIVING_YAC_YDS: long (nullable = true)\n",
      " |-- RECEIVING_YDS: long (nullable = true)\n",
      " |-- RUSHING_ATT: long (nullable = true)\n",
      " |-- RUSHING_LOSS: long (nullable = true)\n",
      " |-- RUSHING_LOSS_YDS: long (nullable = true)\n",
      " |-- RUSHING_TDS: long (nullable = true)\n",
      " |-- RUSHING_TWOPTA: long (nullable = true)\n",
      " |-- RUSHING_TWOPTM: long (nullable = true)\n",
      " |-- RUSHING_TWOPTMISSED: long (nullable = true)\n",
      " |-- RUSHING_YDS: long (nullable = true)\n",
      " |-- TEAM: string (nullable = true)\n",
      "\n",
      "None\n",
      "Plays:  root\n",
      " |-- DESCRIPTION: string (nullable = true)\n",
      " |-- DOWN: long (nullable = true)\n",
      " |-- DRIVE_ID: long (nullable = true)\n",
      " |-- FIRST_DOWN: long (nullable = true)\n",
      " |-- FOURTH_DOWN_ATT: long (nullable = true)\n",
      " |-- FOURTH_DOWN_CONV: long (nullable = true)\n",
      " |-- FOURTH_DOWN_FAILED: long (nullable = true)\n",
      " |-- GSIS_ID: long (nullable = true)\n",
      " |-- NOTE: string (nullable = true)\n",
      " |-- PASSING_FIRST_DOWN: long (nullable = true)\n",
      " |-- PENALTY: long (nullable = true)\n",
      " |-- PENALTY_FIRST_DOWN: long (nullable = true)\n",
      " |-- PENALTY_YDS: long (nullable = true)\n",
      " |-- PLAY_ID: long (nullable = true)\n",
      " |-- POS_TEAM: string (nullable = true)\n",
      " |-- RUSHING_FIRST_DOWN: long (nullable = true)\n",
      " |-- THIRD_DOWN_ATT: long (nullable = true)\n",
      " |-- THIRD_DOWN_CONV: long (nullable = true)\n",
      " |-- THIRD_DOWN_FAILED: long (nullable = true)\n",
      " |-- TIME: string (nullable = true)\n",
      " |-- TIMEOUT: long (nullable = true)\n",
      " |-- TIME_INSERTED: string (nullable = true)\n",
      " |-- TIME_UPDATED: string (nullable = true)\n",
      " |-- XP_ABORTED: long (nullable = true)\n",
      " |-- YARDLINE: string (nullable = true)\n",
      " |-- YARDS_TO_GO: long (nullable = true)\n",
      "\n",
      "None\n",
      "Players:  root\n",
      " |-- BIRTHDATE: string (nullable = true)\n",
      " |-- COLLEGE: string (nullable = true)\n",
      " |-- FIRST_NAME: string (nullable = true)\n",
      " |-- FULL_NAME: string (nullable = true)\n",
      " |-- GSIS_NAME: string (nullable = true)\n",
      " |-- HEIGHT: long (nullable = true)\n",
      " |-- LAST_NAME: string (nullable = true)\n",
      " |-- PLAYER_ID: string (nullable = true)\n",
      " |-- POSITION: string (nullable = true)\n",
      " |-- PROFILE_ID: long (nullable = true)\n",
      " |-- PROFILE_URL: string (nullable = true)\n",
      " |-- STATUS: string (nullable = true)\n",
      " |-- TEAM: string (nullable = true)\n",
      " |-- UNIFORM_NUMBER: long (nullable = true)\n",
      " |-- WEIGHT: long (nullable = true)\n",
      " |-- YEARS_PRO: long (nullable = true)\n",
      "\n",
      "None\n",
      "Teams::  root\n",
      " |-- CITY: string (nullable = true)\n",
      " |-- NAME: string (nullable = true)\n",
      " |-- TEAM_ID: string (nullable = true)\n",
      "\n",
      "None\n"
     ]
    }
   ],
   "source": [
    "print \"Games: \", games_norm_df.printSchema()\n",
    "print \"Weather (distinct games): \", distinct_games_weather_df.printSchema()\n",
    "print \"Drives: \", drive_df.printSchema()\n",
    "print \"Player Plays: \", play_player_df.printSchema()\n",
    "print \"Plays: \", play_df.printSchema()\n",
    "print \"Players: \", player_df.printSchema()\n",
    "print \"Teams:: \", team_df.printSchema()"
   ]
  },
  {
   "cell_type": "code",
   "execution_count": 7,
   "metadata": {
    "collapsed": true
   },
   "outputs": [],
   "source": [
    "%matplotlib inline \n",
    "import matplotlib.pyplot as plt, numpy as np"
   ]
  },
  {
   "cell_type": "code",
   "execution_count": 8,
   "metadata": {
    "collapsed": false
   },
   "outputs": [
    {
     "data": {
      "text/plain": [
       "<matplotlib.axes._subplots.AxesSubplot at 0x7fbf19426990>"
      ]
     },
     "execution_count": 8,
     "metadata": {},
     "output_type": "execute_result"
    },
    {
     "data": {
      "image/png": "[encoded data removed]",
      "text/plain": [
       "<matplotlib.figure.Figure at 0x7fbf20d315d0>"
      ]
     },
     "metadata": {},
     "output_type": "display_data"
    }
   ],
   "source": [
    "#example of one game for Eli Manning\n",
    "\n",
    "query = \"\"\"\n",
    "select\n",
    "    pp.PLAY_ID,\n",
    "    PASSING_YDS\n",
    "from games g\n",
    "\n",
    "INNER JOIN drive d on\n",
    "    g.GSIS_ID = d.GSIS_ID\n",
    "\n",
    "INNER JOIN play_player pp on\n",
    "    g.GSIS_ID = pp.GSIS_ID\n",
    "    and pp.DRIVE_ID = d.DRIVE_ID\n",
    "\n",
    "INNER JOIN player p on\n",
    "    p.PLAYER_ID = pp.PLAYER_ID\n",
    "    and g.TEAM = p.TEAM\n",
    "\n",
    "where g.GSIS_ID = 2012090500\n",
    "        and p.FULL_NAME = 'Eli Manning'\n",
    "order by \n",
    "    g.GSIS_ID,\n",
    "    d.DRIVE_ID,\n",
    "    p.PLAYER_ID,\n",
    "    pp.PLAY_ID \"\"\"\n",
    "\n",
    "plays_manning_pd = sqlContext.sql(query)\n",
    "plays_manning_pd.toPandas().plot(kind='bar', x='PLAY_ID', y='PASSING_YDS', figsize=(12, 5))"
   ]
  },
  {
   "cell_type": "code",
   "execution_count": 9,
   "metadata": {
    "collapsed": false
   },
   "outputs": [
    {
     "data": {
      "text/plain": [
       "<matplotlib.axes._subplots.AxesSubplot at 0x7fbf18fd5890>"
      ]
     },
     "execution_count": 9,
     "metadata": {},
     "output_type": "execute_result"
    },
    {
     "data": {
      "image/png": "[encoded data removed]",
      "text/plain": [
       "<matplotlib.figure.Figure at 0x7fbf1940a4d0>"
      ]
     },
     "metadata": {},
     "output_type": "display_data"
    }
   ],
   "source": [
    "#Rolling sum to show the progression of the game\n",
    "\n",
    "plays_manning_pd.registerTempTable(\"manning\")\n",
    "\n",
    "query = \"\"\"\n",
    "select\n",
    "    a.PLAY_ID,\n",
    "    a.PASSING_YDS,\n",
    "    sum(b.PASSING_YDS) as Total_Yards\n",
    "from\n",
    " manning a\n",
    "inner join manning b\n",
    "    on a.PLAY_ID >= b.PLAY_ID\n",
    "GROUP BY\n",
    "    a.PLAY_ID, a.PASSING_YDS\n",
    "order by\n",
    "    a.PLAY_ID\n",
    "\"\"\"\n",
    "pd = sqlContext.sql(query).toPandas()\n",
    "pd.plot(kind='barh', stacked=True, y='Total_Yards', x=\"PASSING_YDS\", figsize=(14, 8))"
   ]
  },
  {
   "cell_type": "code",
   "execution_count": 10,
   "metadata": {
    "collapsed": false
   },
   "outputs": [
    {
     "data": {
      "text/plain": [
       "<matplotlib.axes._subplots.AxesSubplot at 0x7fbf18f73e90>"
      ]
     },
     "execution_count": 10,
     "metadata": {},
     "output_type": "execute_result"
    },
    {
     "data": {
      "image/png": "[encoded data removed]",
      "text/plain": [
       "<matplotlib.figure.Figure at 0x7fbf18f73c10>"
      ]
     },
     "metadata": {},
     "output_type": "display_data"
    }
   ],
   "source": [
    "#Who has the most passing yards in the record set (top 15)\n",
    "query = \"\"\"\n",
    "SELECT \n",
    "\tplayer.FULL_NAME, \n",
    "\tSUM(play_player.PASSING_YDS) AS passing_yds\n",
    "FROM play_player\n",
    "INNER JOIN player ON \n",
    "    player.PLAYER_ID = play_player.PLAYER_ID\n",
    "INNER JOIN games ON \n",
    "    games.GSIS_ID = play_player.GSIS_ID\n",
    "    and games.TEAM = player.TEAM\n",
    "WHERE \n",
    "\tgames.season_type = 'Regular'\n",
    "\tAND PASSING_YDS > 0\n",
    "GROUP BY player.FULL_NAME\n",
    "ORDER BY SUM(play_player.PASSING_YDS) desc\n",
    "limit 15\n",
    "\"\"\"\n",
    "\n",
    "pd = sqlContext.sql(query).toPandas()\n",
    "\n",
    "pd.plot(kind='barh', stacked=True, y='passing_yds', x=\"FULL_NAME\", figsize=(14, 8))"
   ]
  },
  {
   "cell_type": "code",
   "execution_count": 11,
   "metadata": {
    "collapsed": false
   },
   "outputs": [
    {
     "data": {
      "text/plain": [
       "<matplotlib.axes._subplots.AxesSubplot at 0x7fbf18e2e690>"
      ]
     },
     "execution_count": 11,
     "metadata": {},
     "output_type": "execute_result"
    },
    {
     "data": {
      "image/png": "[encoded data removed]",
      "text/plain": [
       "<matplotlib.figure.Figure at 0x7fbf19344290>"
      ]
     },
     "metadata": {},
     "output_type": "display_data"
    }
   ],
   "source": [
    "#what about the team with the most passing yards\n",
    "query = \"\"\"\n",
    "SELECT \n",
    "\tplayer.TEAM, \n",
    "\tSUM(play_player.PASSING_YDS) AS passing_yds\n",
    "FROM play_player\n",
    "INNER JOIN player ON \n",
    "    player.PLAYER_ID = play_player.PLAYER_ID\n",
    "INNER JOIN games ON \n",
    "    games.GSIS_ID = play_player.GSIS_ID\n",
    "    and games.TEAM = player.TEAM\n",
    "WHERE \n",
    "\tgames.season_type = 'Regular'\n",
    "\tAND PASSING_YDS > 0\n",
    "GROUP BY player.TEAM\n",
    "ORDER BY SUM(play_player.PASSING_YDS) desc\n",
    "limit 15\n",
    "\"\"\"\n",
    "pd = sqlContext.sql(query).toPandas()\n",
    "pd.plot(kind='barh', stacked=True, y='passing_yds', x=\"TEAM\", figsize=(14, 8))\n"
   ]
  },
  {
   "cell_type": "code",
   "execution_count": 12,
   "metadata": {
    "collapsed": true
   },
   "outputs": [],
   "source": [
    "#now lets incorporate weather"
   ]
  },
  {
   "cell_type": "code",
   "execution_count": 13,
   "metadata": {
    "collapsed": false
   },
   "outputs": [
    {
     "name": "stdout",
     "output_type": "stream",
     "text": [
      "{u'terse_phrase': None, u'expire_time_gmt': 1441306380, u'vis': 9, u'wx_icon': 28, u'min_temp': None, u'uv_index': 5, u'precip_hrly': 0, u'uv_desc': None, u'obs_id': None, u'pressure_desc': None, u'heat_index': 85, u'wspd': 5, u'rh': 54, u'qualifier_svrty': None, u'valid_time_gmt': 1441299180, u'wc': 83, u'qualifier': None, u'blunt_phrase': None, u'wdir': None, u'icon_extd': 2800, u'obs_name': None, u'dewPt': 65, u'pressure': None, u'precip_total': None, u'key': None, u'class': None, u'pressure_tend': None, u'temp': 83, u'gust': None, u'wdir_cardinal': None, u'snow_hrly': None, u'day_ind': None, u'feels_like': 85, u'wx_phrase': None, u'max_temp': None}\n",
      "83\n"
     ]
    }
   ],
   "source": [
    "#the weather table has a column that contains all of the JSON returned for each day\\locaton queried \n",
    "#in most cases we are only interested in some basic observations, so the first step is to pull those out\n",
    "\n",
    "#We can build a function to pull out the value that we want and return the metric\n",
    "\n",
    "#here is an example of the data we are working with:\n",
    "\n",
    "example_data = distinct_games_weather_df.take(1)\n",
    "\n",
    "for rrow in example_data:\n",
    "    #let's just pick the 12th value assuming that roughly the middle of the day is sufficienct\n",
    "    #for the analysis\n",
    "    print rrow.weather[\"observations\"][12]\n",
    "    \n",
    "    #or to see a specific value\n",
    "    print rrow.weather[\"observations\"][12][\"temp\"]\n"
   ]
  },
  {
   "cell_type": "code",
   "execution_count": 14,
   "metadata": {
    "collapsed": false
   },
   "outputs": [],
   "source": [
    "#now create a function that takes the JSON blob and returns a value\n",
    "import types\n",
    "\n",
    "def get_w_metric(metric, datablob):\n",
    "    i = 10\n",
    "    try:\n",
    "        for obs in datablob[\"observations\"][11:20]:\n",
    "            if obs[metric]: \n",
    "                #return obs[metric]\n",
    "                return str(obs[metric])\n",
    "    except:\n",
    "        return 'na'\n",
    "\n",
    "sqlContext.registerFunction(\"get_w_metric\", get_w_metric)"
   ]
  },
  {
   "cell_type": "code",
   "execution_count": 15,
   "metadata": {
    "collapsed": false
   },
   "outputs": [
    {
     "name": "stdout",
     "output_type": "stream",
     "text": [
      "+----------+--------+--------------------+--------+--------+---------+--------------+--------------------+----+\n",
      "|   GSIS_ID|LOCATION|          START_TIME| datekey|latitude|longitude|  stadium_city|             weather|temp|\n",
      "+----------+--------+--------------------+--------+--------+---------+--------------+--------------------+----+\n",
      "|2015090358|     PIT|2015-09-03 16:30:...|20150903|  40.447|  -80.016|Pittsburgh, PA|Map(metadata -> n...|  79|\n",
      "|2015092009|     PIT|2015-09-20 10:00:...|20150920|  40.447|  -80.016|Pittsburgh, PA|Map(metadata -> n...|  62|\n",
      "|2009082953|     PIT|2009-08-29 16:30:...|20090829|  40.447|  -80.016|Pittsburgh, PA|Map(metadata -> n...|  67|\n",
      "|2009081350|     PIT|2009-08-13 17:00:...|20090813|  40.447|  -80.016|Pittsburgh, PA|Map(metadata -> n...|  64|\n",
      "|2009102504|     PIT|2009-10-25 10:00:...|20091025|  40.447|  -80.016|Pittsburgh, PA|Map(metadata -> n...|  46|\n",
      "|2009091000|     PIT|2009-09-10 17:30:...|20090910|  40.447|  -80.016|Pittsburgh, PA|Map(metadata -> n...|  67|\n",
      "|2011012300|     PIT|2011-01-23 15:30:...|20110123|  40.447|  -80.016|Pittsburgh, PA|Map(metadata -> n...|  12|\n",
      "|2011103008|     PIT|2011-10-30 13:15:...|20111030|  40.447|  -80.016|Pittsburgh, PA|Map(metadata -> n...|  31|\n",
      "|2012100701|     PIT|2012-10-07 10:00:...|20121007|  40.447|  -80.016|Pittsburgh, PA|Map(metadata -> n...|  47|\n",
      "|2012111811|     PIT|2012-11-18 17:20:...|20121118|  40.447|  -80.016|Pittsburgh, PA|Map(metadata -> n...|  49|\n",
      "+----------+--------+--------------------+--------+--------+---------+--------------+--------------------+----+\n",
      "\n"
     ]
    }
   ],
   "source": [
    "#test the function\n",
    "\n",
    "query = \"select *, get_w_metric('temp', weather) as temp from weather  limit 10\"\n",
    "sqlContext.sql(query).show()"
   ]
  },
  {
   "cell_type": "code",
   "execution_count": 16,
   "metadata": {
    "collapsed": false
   },
   "outputs": [],
   "source": [
    "#create a dataframe with weather metrics\n",
    "query = \"\"\" select \n",
    "                *, \n",
    "                get_w_metric('temp', weather) as temp,\n",
    "                get_w_metric('vis', weather) as vis,\n",
    "                get_w_metric('precip_hrly', weather) as precip_hrly,\n",
    "                get_w_metric('heat_index', weather) as heat_index,\n",
    "                get_w_metric('wspd', weather) as wspd,\n",
    "                get_w_metric('precip_total', weather) as precip_total,\n",
    "                get_w_metric('pressure', weather) as pressure\n",
    "        from weather \"\"\"\n",
    "distinct_games_weather_df_wmetrics = sqlContext.sql(query)\n",
    "distinct_games_weather_df_wmetrics.registerTempTable(\"weather_metrics\")"
   ]
  },
  {
   "cell_type": "code",
   "execution_count": 17,
   "metadata": {
    "collapsed": false
   },
   "outputs": [
    {
     "name": "stdout",
     "output_type": "stream",
     "text": [
      "+----------+--------+--------------------+--------+--------+---------+--------------+--------------------+----+---+-----------+----------+----+------------+--------+\n",
      "|   GSIS_ID|LOCATION|          START_TIME| datekey|latitude|longitude|  stadium_city|             weather|temp|vis|precip_hrly|heat_index|wspd|precip_total|pressure|\n",
      "+----------+--------+--------------------+--------+--------+---------+--------------+--------------------+----+---+-----------+----------+----+------------+--------+\n",
      "|2015090358|     PIT|2015-09-03 16:30:...|20150903|  40.447|  -80.016|Pittsburgh, PA|Map(metadata -> n...|  79|  9|       null|        81|   5|        null|    null|\n",
      "|2015092009|     PIT|2015-09-20 10:00:...|20150920|  40.447|  -80.016|Pittsburgh, PA|Map(metadata -> n...|  62| 10|       null|        62|   9|        null|    null|\n",
      "|2009082953|     PIT|2009-08-29 16:30:...|20090829|  40.447|  -80.016|Pittsburgh, PA|Map(metadata -> n...|  67|  9|       null|        67|   9|        null|    null|\n",
      "|2009081350|     PIT|2009-08-13 17:00:...|20090813|  40.447|  -80.016|Pittsburgh, PA|Map(metadata -> n...|  64|  1|       null|        64|   5|        null|    null|\n",
      "|2009102504|     PIT|2009-10-25 10:00:...|20091025|  40.447|  -80.016|Pittsburgh, PA|Map(metadata -> n...|  46| 10|       null|        46|   6|        null|    null|\n",
      "+----------+--------+--------------------+--------+--------+---------+--------------+--------------------+----+---+-----------+----------+----+------------+--------+\n",
      "only showing top 5 rows\n",
      "\n"
     ]
    }
   ],
   "source": [
    "distinct_games_weather_df_wmetrics.show(5)"
   ]
  },
  {
   "cell_type": "code",
   "execution_count": 18,
   "metadata": {
    "collapsed": false
   },
   "outputs": [
    {
     "data": {
      "text/html": [
       "<div>\n",
       "<table border=\"1\" class=\"dataframe\">\n",
       "  <thead>\n",
       "    <tr style=\"text-align: right;\">\n",
       "      <th></th>\n",
       "      <th>GSIS_ID</th>\n",
       "      <th>GAMEKEY</th>\n",
       "      <th>START_TIME</th>\n",
       "      <th>WEEK</th>\n",
       "      <th>DAY_OF_WEEK</th>\n",
       "      <th>SEASON_YEAR</th>\n",
       "      <th>SEASON_TYPE</th>\n",
       "      <th>FINISHED</th>\n",
       "      <th>LOCATION</th>\n",
       "      <th>HOME_GAME</th>\n",
       "      <th>...</th>\n",
       "      <th>longitude</th>\n",
       "      <th>stadium_city</th>\n",
       "      <th>weather</th>\n",
       "      <th>temp</th>\n",
       "      <th>vis</th>\n",
       "      <th>precip_hrly</th>\n",
       "      <th>heat_index</th>\n",
       "      <th>wspd</th>\n",
       "      <th>precip_total</th>\n",
       "      <th>pressure</th>\n",
       "    </tr>\n",
       "  </thead>\n",
       "  <tbody>\n",
       "    <tr>\n",
       "      <th>0</th>\n",
       "      <td>2012080954</td>\n",
       "      <td>55765</td>\n",
       "      <td>2012-08-09 16:30:00</td>\n",
       "      <td>1</td>\n",
       "      <td>Thursday</td>\n",
       "      <td>2012</td>\n",
       "      <td>Preseason</td>\n",
       "      <td>t</td>\n",
       "      <td>PHI</td>\n",
       "      <td>1</td>\n",
       "      <td>...</td>\n",
       "      <td>-75.168</td>\n",
       "      <td>Philadelphia, PA</td>\n",
       "      <td>{u'observations': [{u'terse_phrase': None, u'e...</td>\n",
       "      <td>73</td>\n",
       "      <td>4</td>\n",
       "      <td>None</td>\n",
       "      <td>73</td>\n",
       "      <td>5</td>\n",
       "      <td>None</td>\n",
       "      <td>None</td>\n",
       "    </tr>\n",
       "    <tr>\n",
       "      <th>1</th>\n",
       "      <td>2012080955</td>\n",
       "      <td>55761</td>\n",
       "      <td>2012-08-09 17:00:00</td>\n",
       "      <td>1</td>\n",
       "      <td>Thursday</td>\n",
       "      <td>2012</td>\n",
       "      <td>Preseason</td>\n",
       "      <td>t</td>\n",
       "      <td>SD</td>\n",
       "      <td>1</td>\n",
       "      <td>...</td>\n",
       "      <td>-117.11</td>\n",
       "      <td>San Diego, CA</td>\n",
       "      <td>{u'observations': [{u'terse_phrase': None, u'e...</td>\n",
       "      <td>67</td>\n",
       "      <td>3</td>\n",
       "      <td>None</td>\n",
       "      <td>67</td>\n",
       "      <td>6</td>\n",
       "      <td>None</td>\n",
       "      <td>None</td>\n",
       "    </tr>\n",
       "    <tr>\n",
       "      <th>2</th>\n",
       "      <td>2012080956</td>\n",
       "      <td>55766</td>\n",
       "      <td>2012-08-09 17:30:00</td>\n",
       "      <td>1</td>\n",
       "      <td>Thursday</td>\n",
       "      <td>2012</td>\n",
       "      <td>Preseason</td>\n",
       "      <td>t</td>\n",
       "      <td>CHI</td>\n",
       "      <td>1</td>\n",
       "      <td>...</td>\n",
       "      <td>-87.617</td>\n",
       "      <td>Chicago, IL</td>\n",
       "      <td>{u'observations': [{u'terse_phrase': None, u'e...</td>\n",
       "      <td>76</td>\n",
       "      <td>10</td>\n",
       "      <td>None</td>\n",
       "      <td>76</td>\n",
       "      <td>5</td>\n",
       "      <td>None</td>\n",
       "      <td>None</td>\n",
       "    </tr>\n",
       "    <tr>\n",
       "      <th>3</th>\n",
       "      <td>2012081051</td>\n",
       "      <td>55768</td>\n",
       "      <td>2012-08-10 16:30:00</td>\n",
       "      <td>1</td>\n",
       "      <td>Friday</td>\n",
       "      <td>2012</td>\n",
       "      <td>Preseason</td>\n",
       "      <td>t</td>\n",
       "      <td>CIN</td>\n",
       "      <td>1</td>\n",
       "      <td>...</td>\n",
       "      <td>-84.516</td>\n",
       "      <td>Cincinnati, OH</td>\n",
       "      <td>{u'observations': [{u'terse_phrase': None, u'e...</td>\n",
       "      <td>68</td>\n",
       "      <td>7</td>\n",
       "      <td>None</td>\n",
       "      <td>68</td>\n",
       "      <td>3</td>\n",
       "      <td>None</td>\n",
       "      <td>None</td>\n",
       "    </tr>\n",
       "    <tr>\n",
       "      <th>4</th>\n",
       "      <td>2012081052</td>\n",
       "      <td>55769</td>\n",
       "      <td>2012-08-10 16:30:00</td>\n",
       "      <td>1</td>\n",
       "      <td>Friday</td>\n",
       "      <td>2012</td>\n",
       "      <td>Preseason</td>\n",
       "      <td>t</td>\n",
       "      <td>DET</td>\n",
       "      <td>1</td>\n",
       "      <td>...</td>\n",
       "      <td>-83.046</td>\n",
       "      <td>Detroit, MI</td>\n",
       "      <td>{u'observations': [{u'terse_phrase': None, u'e...</td>\n",
       "      <td>63</td>\n",
       "      <td>8</td>\n",
       "      <td>None</td>\n",
       "      <td>63</td>\n",
       "      <td>2</td>\n",
       "      <td>None</td>\n",
       "      <td>None</td>\n",
       "    </tr>\n",
       "  </tbody>\n",
       "</table>\n",
       "<p>5 rows × 43 columns</p>\n",
       "</div>"
      ],
      "text/plain": [
       "      GSIS_ID  GAMEKEY          START_TIME  WEEK DAY_OF_WEEK  SEASON_YEAR  \\\n",
       "0  2012080954    55765 2012-08-09 16:30:00     1    Thursday         2012   \n",
       "1  2012080955    55761 2012-08-09 17:00:00     1    Thursday         2012   \n",
       "2  2012080956    55766 2012-08-09 17:30:00     1    Thursday         2012   \n",
       "3  2012081051    55768 2012-08-10 16:30:00     1      Friday         2012   \n",
       "4  2012081052    55769 2012-08-10 16:30:00     1      Friday         2012   \n",
       "\n",
       "  SEASON_TYPE FINISHED LOCATION  HOME_GAME    ...    longitude  \\\n",
       "0   Preseason        t      PHI          1    ...      -75.168   \n",
       "1   Preseason        t       SD          1    ...      -117.11   \n",
       "2   Preseason        t      CHI          1    ...      -87.617   \n",
       "3   Preseason        t      CIN          1    ...      -84.516   \n",
       "4   Preseason        t      DET          1    ...      -83.046   \n",
       "\n",
       "       stadium_city                                            weather  temp  \\\n",
       "0  Philadelphia, PA  {u'observations': [{u'terse_phrase': None, u'e...    73   \n",
       "1     San Diego, CA  {u'observations': [{u'terse_phrase': None, u'e...    67   \n",
       "2       Chicago, IL  {u'observations': [{u'terse_phrase': None, u'e...    76   \n",
       "3    Cincinnati, OH  {u'observations': [{u'terse_phrase': None, u'e...    68   \n",
       "4       Detroit, MI  {u'observations': [{u'terse_phrase': None, u'e...    63   \n",
       "\n",
       "   vis  precip_hrly  heat_index  wspd precip_total  pressure  \n",
       "0    4         None          73     5         None      None  \n",
       "1    3         None          67     6         None      None  \n",
       "2   10         None          76     5         None      None  \n",
       "3    7         None          68     3         None      None  \n",
       "4    8         None          63     2         None      None  \n",
       "\n",
       "[5 rows x 43 columns]"
      ]
     },
     "execution_count": 18,
     "metadata": {},
     "output_type": "execute_result"
    }
   ],
   "source": [
    "query = \"\"\"\n",
    "\n",
    "select \n",
    "    *\n",
    "from\n",
    "    games g\n",
    "inner join weather_metrics w on\n",
    "    g.GSIS_ID = w.GSIS_ID\n",
    "limit 5\n",
    "\"\"\"\n",
    "sqlContext.sql(query).toPandas()"
   ]
  },
  {
   "cell_type": "code",
   "execution_count": 19,
   "metadata": {
    "collapsed": false
   },
   "outputs": [
    {
     "data": {
      "image/png": "[encoded data removed]",
      "text/plain": [
       "<matplotlib.figure.Figure at 0x7fbf193b6390>"
      ]
     },
     "metadata": {},
     "output_type": "display_data"
    }
   ],
   "source": [
    "query = \"\"\"\n",
    "\n",
    "select \n",
    "    g.TEAM,\n",
    "    avg(w.temp) as avgtempi\n",
    "from\n",
    "    games g\n",
    "inner join weather_metrics w on\n",
    "    g.GSIS_ID = w.GSIS_ID\n",
    "group by g.TEAM\n",
    "order by avgtempi desc\n",
    "\n",
    "\"\"\"\n",
    "pd = sqlContext.sql(query).toPandas()\n",
    "pd.plot(kind=\"bar\", x=\"TEAM\", y=\"avgtempi\", figsize=(14, 8));"
   ]
  },
  {
   "cell_type": "code",
   "execution_count": 20,
   "metadata": {
    "collapsed": false
   },
   "outputs": [],
   "source": [
    "query = \"\"\"SELECT\n",
    "    games.GSIS_ID,\n",
    "\tplayer.TEAM,\n",
    "\tplayer.FULL_NAME,\n",
    "\tplayer.PROFILE_ID,\n",
    "\tsum(play_player.PASSING_YDS) AS passing_yds,\n",
    "\tavg(w.temp) as temp\n",
    "FROM play_player\n",
    "INNER JOIN player ON \n",
    "    player.PLAYER_ID = play_player.PLAYER_ID\n",
    "INNER JOIN games ON \n",
    "    games.GSIS_ID = play_player.GSIS_ID\n",
    "    and games.TEAM = player.TEAM\n",
    "INNER JOIN weather_metrics w ON\n",
    "    w.GSIS_ID = games.GSIS_ID\n",
    "WHERE \n",
    "\tgames.SEASON_TYPE = 'Regular'\n",
    "\tAND PASSING_YDS > 0\n",
    "    AND w.temp is not null\n",
    "GROUP BY FULL_NAME, PROFILE_ID, player.TEAM, games.GSIS_ID\n",
    "ORDER BY FULL_NAME, PROFILE_ID\n",
    "\"\"\"\n",
    "\n",
    "players_yards = sqlContext.sql(query)\n",
    "players_yards.registerTempTable(\"players_yards\")"
   ]
  },
  {
   "cell_type": "code",
   "execution_count": 21,
   "metadata": {
    "collapsed": false
   },
   "outputs": [],
   "source": [
    "#test out a simple correlation Aaron Rodgers, Passing Yards to Temp\n",
    "query = \"\"\"\n",
    "select\n",
    "    passing_yds,\n",
    "    temp\n",
    "from\n",
    "    players_yards\n",
    "where FULL_NAME = 'Aaron Rodgers'\n",
    "\"\"\"\n",
    "yds_temp_df = sqlContext.sql(query)"
   ]
  },
  {
   "cell_type": "code",
   "execution_count": 22,
   "metadata": {
    "collapsed": false
   },
   "outputs": [],
   "source": [
    "#build list of players to loop through\n",
    "query = \"\"\"\n",
    "select\n",
    "    FULL_NAME,\n",
    "    count(*) as games,\n",
    "    corr(passing_yds, temp) as corr\n",
    "from\n",
    "    players_yards\n",
    "group by FULL_NAME\n",
    "\n",
    "\"\"\"\n",
    "\n",
    "sqlContext.sql(query).registerTempTable(\"temp_yds_corr\")\n"
   ]
  },
  {
   "cell_type": "code",
   "execution_count": 25,
   "metadata": {
    "collapsed": false
   },
   "outputs": [],
   "source": [
    "query = \"select * from temp_yds_corr where abs(corr) > 0 order by corr\"\n",
    "players_pd = sqlContext.sql(query).toPandas()"
   ]
  },
  {
   "cell_type": "code",
   "execution_count": 26,
   "metadata": {
    "collapsed": false
   },
   "outputs": [
    {
     "data": {
      "image/png": "[encoded data removed]",
      "text/plain": [
       "<matplotlib.figure.Figure at 0x7fbf18a37290>"
      ]
     },
     "metadata": {},
     "output_type": "display_data"
    }
   ],
   "source": [
    "players_pd.plot(kind=\"bar\", x=\"FULL_NAME\", y=\"corr\", figsize=(14, 8));"
   ]
  },
  {
   "cell_type": "code",
   "execution_count": 27,
   "metadata": {
    "collapsed": false
   },
   "outputs": [
    {
     "data": {
      "text/html": [
       "<div>\n",
       "<table border=\"1\" class=\"dataframe\">\n",
       "  <thead>\n",
       "    <tr style=\"text-align: right;\">\n",
       "      <th></th>\n",
       "      <th>FULL_NAME</th>\n",
       "      <th>games</th>\n",
       "      <th>corr</th>\n",
       "    </tr>\n",
       "  </thead>\n",
       "  <tbody>\n",
       "    <tr>\n",
       "      <th>0</th>\n",
       "      <td>Austin Davis</td>\n",
       "      <td>3</td>\n",
       "      <td>-0.549408</td>\n",
       "    </tr>\n",
       "    <tr>\n",
       "      <th>1</th>\n",
       "      <td>Ryan Nassib</td>\n",
       "      <td>2</td>\n",
       "      <td>-1.000000</td>\n",
       "    </tr>\n",
       "    <tr>\n",
       "      <th>2</th>\n",
       "      <td>Mohamed Sanu</td>\n",
       "      <td>5</td>\n",
       "      <td>-0.680293</td>\n",
       "    </tr>\n",
       "    <tr>\n",
       "      <th>3</th>\n",
       "      <td>Matt McGloin</td>\n",
       "      <td>9</td>\n",
       "      <td>-0.529300</td>\n",
       "    </tr>\n",
       "    <tr>\n",
       "      <th>4</th>\n",
       "      <td>Chad Henne</td>\n",
       "      <td>28</td>\n",
       "      <td>-0.597849</td>\n",
       "    </tr>\n",
       "    <tr>\n",
       "      <th>5</th>\n",
       "      <td>Colt McCoy</td>\n",
       "      <td>6</td>\n",
       "      <td>0.752440</td>\n",
       "    </tr>\n",
       "    <tr>\n",
       "      <th>6</th>\n",
       "      <td>Brock Osweiler</td>\n",
       "      <td>13</td>\n",
       "      <td>-0.528733</td>\n",
       "    </tr>\n",
       "    <tr>\n",
       "      <th>7</th>\n",
       "      <td>Ryan Mallett</td>\n",
       "      <td>2</td>\n",
       "      <td>-1.000000</td>\n",
       "    </tr>\n",
       "    <tr>\n",
       "      <th>8</th>\n",
       "      <td>Cecil Shorts</td>\n",
       "      <td>2</td>\n",
       "      <td>-1.000000</td>\n",
       "    </tr>\n",
       "    <tr>\n",
       "      <th>9</th>\n",
       "      <td>Kellen Moore</td>\n",
       "      <td>3</td>\n",
       "      <td>-0.766237</td>\n",
       "    </tr>\n",
       "    <tr>\n",
       "      <th>10</th>\n",
       "      <td>Bruce Gradkowski</td>\n",
       "      <td>3</td>\n",
       "      <td>-0.953433</td>\n",
       "    </tr>\n",
       "    <tr>\n",
       "      <th>11</th>\n",
       "      <td>Brandon Weeden</td>\n",
       "      <td>2</td>\n",
       "      <td>1.000000</td>\n",
       "    </tr>\n",
       "    <tr>\n",
       "      <th>12</th>\n",
       "      <td>Dan Orlovsky</td>\n",
       "      <td>2</td>\n",
       "      <td>-1.000000</td>\n",
       "    </tr>\n",
       "    <tr>\n",
       "      <th>13</th>\n",
       "      <td>Blaine Gabbert</td>\n",
       "      <td>9</td>\n",
       "      <td>-0.590838</td>\n",
       "    </tr>\n",
       "    <tr>\n",
       "      <th>14</th>\n",
       "      <td>Jimmy Clausen</td>\n",
       "      <td>2</td>\n",
       "      <td>-1.000000</td>\n",
       "    </tr>\n",
       "    <tr>\n",
       "      <th>15</th>\n",
       "      <td>Josh Freeman</td>\n",
       "      <td>2</td>\n",
       "      <td>1.000000</td>\n",
       "    </tr>\n",
       "    <tr>\n",
       "      <th>16</th>\n",
       "      <td>Antonio Brown</td>\n",
       "      <td>3</td>\n",
       "      <td>0.814978</td>\n",
       "    </tr>\n",
       "    <tr>\n",
       "      <th>17</th>\n",
       "      <td>Luke McCown</td>\n",
       "      <td>2</td>\n",
       "      <td>1.000000</td>\n",
       "    </tr>\n",
       "    <tr>\n",
       "      <th>18</th>\n",
       "      <td>Jeremy Kerley</td>\n",
       "      <td>2</td>\n",
       "      <td>-1.000000</td>\n",
       "    </tr>\n",
       "    <tr>\n",
       "      <th>19</th>\n",
       "      <td>Marcus Mariota</td>\n",
       "      <td>12</td>\n",
       "      <td>0.553937</td>\n",
       "    </tr>\n",
       "    <tr>\n",
       "      <th>20</th>\n",
       "      <td>Shaun Hill</td>\n",
       "      <td>5</td>\n",
       "      <td>-0.661267</td>\n",
       "    </tr>\n",
       "    <tr>\n",
       "      <th>21</th>\n",
       "      <td>Johnny Hekker</td>\n",
       "      <td>5</td>\n",
       "      <td>-0.978884</td>\n",
       "    </tr>\n",
       "    <tr>\n",
       "      <th>22</th>\n",
       "      <td>Kellen Clemens</td>\n",
       "      <td>2</td>\n",
       "      <td>1.000000</td>\n",
       "    </tr>\n",
       "  </tbody>\n",
       "</table>\n",
       "</div>"
      ],
      "text/plain": [
       "           FULL_NAME  games      corr\n",
       "0       Austin Davis      3 -0.549408\n",
       "1        Ryan Nassib      2 -1.000000\n",
       "2       Mohamed Sanu      5 -0.680293\n",
       "3       Matt McGloin      9 -0.529300\n",
       "4         Chad Henne     28 -0.597849\n",
       "5         Colt McCoy      6  0.752440\n",
       "6     Brock Osweiler     13 -0.528733\n",
       "7       Ryan Mallett      2 -1.000000\n",
       "8       Cecil Shorts      2 -1.000000\n",
       "9       Kellen Moore      3 -0.766237\n",
       "10  Bruce Gradkowski      3 -0.953433\n",
       "11    Brandon Weeden      2  1.000000\n",
       "12      Dan Orlovsky      2 -1.000000\n",
       "13    Blaine Gabbert      9 -0.590838\n",
       "14     Jimmy Clausen      2 -1.000000\n",
       "15      Josh Freeman      2  1.000000\n",
       "16     Antonio Brown      3  0.814978\n",
       "17       Luke McCown      2  1.000000\n",
       "18     Jeremy Kerley      2 -1.000000\n",
       "19    Marcus Mariota     12  0.553937\n",
       "20        Shaun Hill      5 -0.661267\n",
       "21     Johnny Hekker      5 -0.978884\n",
       "22    Kellen Clemens      2  1.000000"
      ]
     },
     "execution_count": 27,
     "metadata": {},
     "output_type": "execute_result"
    }
   ],
   "source": [
    "query = \"select * from temp_yds_corr where abs(corr) > CAST('.5' AS FLOAT)\"\n",
    "players_pd = sqlContext.sql(query).toPandas()\n",
    "players_pd"
   ]
  },
  {
   "cell_type": "markdown",
   "metadata": {},
   "source": [
    "<img src=\"https://lintvkhon.files.wordpress.com/2015/07/marcus-mariota-sandy-beach-interview.jpg?w=400\"></img>"
   ]
  },
  {
   "cell_type": "code",
   "execution_count": 28,
   "metadata": {
    "collapsed": false
   },
   "outputs": [
    {
     "data": {
      "text/html": [
       "<div>\n",
       "<table border=\"1\" class=\"dataframe\">\n",
       "  <thead>\n",
       "    <tr style=\"text-align: right;\">\n",
       "      <th></th>\n",
       "      <th>GSIS_ID</th>\n",
       "      <th>TEAM</th>\n",
       "      <th>FULL_NAME</th>\n",
       "      <th>PROFILE_ID</th>\n",
       "      <th>passing_yds</th>\n",
       "      <th>temp</th>\n",
       "    </tr>\n",
       "  </thead>\n",
       "  <tbody>\n",
       "    <tr>\n",
       "      <th>0</th>\n",
       "      <td>2015122005</td>\n",
       "      <td>TEN</td>\n",
       "      <td>Marcus Mariota</td>\n",
       "      <td>2552466</td>\n",
       "      <td>32</td>\n",
       "      <td>41</td>\n",
       "    </tr>\n",
       "    <tr>\n",
       "      <th>1</th>\n",
       "      <td>2015101806</td>\n",
       "      <td>TEN</td>\n",
       "      <td>Marcus Mariota</td>\n",
       "      <td>2552466</td>\n",
       "      <td>231</td>\n",
       "      <td>58</td>\n",
       "    </tr>\n",
       "    <tr>\n",
       "      <th>2</th>\n",
       "      <td>2015111503</td>\n",
       "      <td>TEN</td>\n",
       "      <td>Marcus Mariota</td>\n",
       "      <td>2552466</td>\n",
       "      <td>185</td>\n",
       "      <td>58</td>\n",
       "    </tr>\n",
       "    <tr>\n",
       "      <th>3</th>\n",
       "      <td>2015120604</td>\n",
       "      <td>TEN</td>\n",
       "      <td>Marcus Mariota</td>\n",
       "      <td>2552466</td>\n",
       "      <td>268</td>\n",
       "      <td>59</td>\n",
       "    </tr>\n",
       "    <tr>\n",
       "      <th>4</th>\n",
       "      <td>2015112907</td>\n",
       "      <td>TEN</td>\n",
       "      <td>Marcus Mariota</td>\n",
       "      <td>2552466</td>\n",
       "      <td>218</td>\n",
       "      <td>59</td>\n",
       "    </tr>\n",
       "    <tr>\n",
       "      <th>5</th>\n",
       "      <td>2015110803</td>\n",
       "      <td>TEN</td>\n",
       "      <td>Marcus Mariota</td>\n",
       "      <td>2552466</td>\n",
       "      <td>371</td>\n",
       "      <td>65</td>\n",
       "    </tr>\n",
       "    <tr>\n",
       "      <th>6</th>\n",
       "      <td>2015121301</td>\n",
       "      <td>TEN</td>\n",
       "      <td>Marcus Mariota</td>\n",
       "      <td>2552466</td>\n",
       "      <td>274</td>\n",
       "      <td>66</td>\n",
       "    </tr>\n",
       "    <tr>\n",
       "      <th>7</th>\n",
       "      <td>2015092003</td>\n",
       "      <td>TEN</td>\n",
       "      <td>Marcus Mariota</td>\n",
       "      <td>2552466</td>\n",
       "      <td>262</td>\n",
       "      <td>67</td>\n",
       "    </tr>\n",
       "    <tr>\n",
       "      <th>8</th>\n",
       "      <td>2015101106</td>\n",
       "      <td>TEN</td>\n",
       "      <td>Marcus Mariota</td>\n",
       "      <td>2552466</td>\n",
       "      <td>189</td>\n",
       "      <td>68</td>\n",
       "    </tr>\n",
       "    <tr>\n",
       "      <th>9</th>\n",
       "      <td>2015092709</td>\n",
       "      <td>TEN</td>\n",
       "      <td>Marcus Mariota</td>\n",
       "      <td>2552466</td>\n",
       "      <td>367</td>\n",
       "      <td>68</td>\n",
       "    </tr>\n",
       "    <tr>\n",
       "      <th>10</th>\n",
       "      <td>2015111900</td>\n",
       "      <td>TEN</td>\n",
       "      <td>Marcus Mariota</td>\n",
       "      <td>2552466</td>\n",
       "      <td>231</td>\n",
       "      <td>73</td>\n",
       "    </tr>\n",
       "    <tr>\n",
       "      <th>11</th>\n",
       "      <td>2015091311</td>\n",
       "      <td>TEN</td>\n",
       "      <td>Marcus Mariota</td>\n",
       "      <td>2552466</td>\n",
       "      <td>209</td>\n",
       "      <td>79</td>\n",
       "    </tr>\n",
       "  </tbody>\n",
       "</table>\n",
       "</div>"
      ],
      "text/plain": [
       "       GSIS_ID TEAM       FULL_NAME  PROFILE_ID  passing_yds  temp\n",
       "0   2015122005  TEN  Marcus Mariota     2552466           32    41\n",
       "1   2015101806  TEN  Marcus Mariota     2552466          231    58\n",
       "2   2015111503  TEN  Marcus Mariota     2552466          185    58\n",
       "3   2015120604  TEN  Marcus Mariota     2552466          268    59\n",
       "4   2015112907  TEN  Marcus Mariota     2552466          218    59\n",
       "5   2015110803  TEN  Marcus Mariota     2552466          371    65\n",
       "6   2015121301  TEN  Marcus Mariota     2552466          274    66\n",
       "7   2015092003  TEN  Marcus Mariota     2552466          262    67\n",
       "8   2015101106  TEN  Marcus Mariota     2552466          189    68\n",
       "9   2015092709  TEN  Marcus Mariota     2552466          367    68\n",
       "10  2015111900  TEN  Marcus Mariota     2552466          231    73\n",
       "11  2015091311  TEN  Marcus Mariota     2552466          209    79"
      ]
     },
     "execution_count": 28,
     "metadata": {},
     "output_type": "execute_result"
    }
   ],
   "source": [
    "query = \"\"\"\n",
    "select\n",
    "    *\n",
    "from\n",
    "    players_yards\n",
    "where \n",
    "    FULL_NAME = 'Marcus Mariota' \n",
    "order by temp\n",
    "\"\"\"\n",
    "players_pd = sqlContext.sql(query).toPandas()\n",
    "players_pd"
   ]
  },
  {
   "cell_type": "code",
   "execution_count": 65,
   "metadata": {
    "collapsed": false
   },
   "outputs": [
    {
     "data": {
      "image/png": "[encoded data removed]",
      "text/plain": [
       "<matplotlib.figure.Figure at 0x7fbe89504a50>"
      ]
     },
     "metadata": {},
     "output_type": "display_data"
    }
   ],
   "source": [
    "players_pd.plot(kind=\"line\", x=\"temp\", y=\"passing_yds\", figsize=(14, 8));\n"
   ]
  },
  {
   "cell_type": "code",
   "execution_count": 81,
   "metadata": {
    "collapsed": false
   },
   "outputs": [
    {
     "name": "stdout",
     "output_type": "stream",
     "text": [
      "                            OLS Regression Results                            \n",
      "==============================================================================\n",
      "Dep. Variable:            passing_yds   R-squared:                       0.307\n",
      "Model:                            OLS   Adj. R-squared:                  0.238\n",
      "Method:                 Least Squares   F-statistic:                     4.427\n",
      "Date:                Fri, 03 Jun 2016   Prob (F-statistic):             0.0617\n",
      "Time:                        13:18:17   Log-Likelihood:                -68.095\n",
      "No. Observations:                  12   AIC:                             140.2\n",
      "Df Residuals:                      10   BIC:                             141.2\n",
      "Df Model:                           1                                         \n",
      "Covariance Type:            nonrobust                                         \n",
      "==============================================================================\n",
      "                 coef    std err          t      P>|t|      [95.0% Conf. Int.]\n",
      "------------------------------------------------------------------------------\n",
      "Intercept    -89.6393    156.565     -0.573      0.580      -438.488   259.210\n",
      "temp           5.1415      2.444      2.104      0.062        -0.303    10.586\n",
      "==============================================================================\n",
      "Omnibus:                        0.386   Durbin-Watson:                   1.936\n",
      "Prob(Omnibus):                  0.825   Jarque-Bera (JB):                0.491\n",
      "Skew:                           0.225   Prob(JB):                        0.782\n",
      "Kurtosis:                       2.117   Cond. No.                         450.\n",
      "==============================================================================\n",
      "\n",
      "Warnings:\n",
      "[1] Standard Errors assume that the covariance matrix of the errors is correctly specified.\n"
     ]
    },
    {
     "data": {
      "image/png": "[encoded data removed]",
      "text/plain": [
       "<matplotlib.figure.Figure at 0x7fbe88de9e10>"
      ]
     },
     "metadata": {},
     "output_type": "display_data"
    }
   ],
   "source": [
    "from matplotlib import pyplot\n",
    "import statsmodels.api as sm\n",
    "\n",
    "fig, ax = pyplot.subplots()\n",
    "players_pd.plot(x='temp', y='passing_yds', ax=ax, figsize=(14, 8))\n",
    "model = sm.formula.ols(formula='passing_yds ~ temp', data=players_pd)\n",
    "res = model.fit()\n",
    "players_pd.assign(trend=res.fittedvalues).plot(x='temp', y='trend', ax=ax)\n",
    "\n",
    "print res.summary()"
   ]
  },
  {
   "cell_type": "code",
   "execution_count": null,
   "metadata": {
    "collapsed": true
   },
   "outputs": [],
   "source": []
  }
 ],
 "metadata": {
  "kernelspec": {
   "display_name": "Python 2",
   "language": "python",
   "name": "python2"
  },
  "language_info": {
   "codemirror_mode": {
    "name": "ipython",
    "version": 2
   },
   "file_extension": ".py",
   "mimetype": "text/x-python",
   "name": "python",
   "nbconvert_exporter": "python",
   "pygments_lexer": "ipython2",
   "version": "2.7.11"
  }
 },
 "nbformat": 4,
 "nbformat_minor": 0
}